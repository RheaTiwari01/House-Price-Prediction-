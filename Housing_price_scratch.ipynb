{
 "cells": [
  {
   "cell_type": "code",
   "execution_count": 9,
   "id": "a75918b9",
   "metadata": {},
   "outputs": [],
   "source": [
    "import matplotlib.pyplot as plt\n",
    "\n",
    "import math,copy\n",
    "import numpy as np\n",
    "import pandas as pd"
   ]
  },
  {
   "cell_type": "code",
   "execution_count": 10,
   "id": "70b68ed0",
   "metadata": {},
   "outputs": [],
   "source": [
    "data= pd.read_csv(r\"C:\\Users\\RHEA TIWARI\\Downloads\\archive (2)\\Housing.csv\")"
   ]
  },
  {
   "cell_type": "code",
   "execution_count": 11,
   "id": "cb3c39ad",
   "metadata": {},
   "outputs": [
    {
     "data": {
      "text/html": [
       "<div>\n",
       "<style scoped>\n",
       "    .dataframe tbody tr th:only-of-type {\n",
       "        vertical-align: middle;\n",
       "    }\n",
       "\n",
       "    .dataframe tbody tr th {\n",
       "        vertical-align: top;\n",
       "    }\n",
       "\n",
       "    .dataframe thead th {\n",
       "        text-align: right;\n",
       "    }\n",
       "</style>\n",
       "<table border=\"1\" class=\"dataframe\">\n",
       "  <thead>\n",
       "    <tr style=\"text-align: right;\">\n",
       "      <th></th>\n",
       "      <th>price</th>\n",
       "      <th>area</th>\n",
       "      <th>bedrooms</th>\n",
       "      <th>bathrooms</th>\n",
       "      <th>stories</th>\n",
       "      <th>mainroad</th>\n",
       "      <th>guestroom</th>\n",
       "      <th>basement</th>\n",
       "      <th>hotwaterheating</th>\n",
       "      <th>airconditioning</th>\n",
       "      <th>parking</th>\n",
       "      <th>prefarea</th>\n",
       "      <th>furnishingstatus</th>\n",
       "    </tr>\n",
       "  </thead>\n",
       "  <tbody>\n",
       "    <tr>\n",
       "      <th>0</th>\n",
       "      <td>13300000</td>\n",
       "      <td>7420</td>\n",
       "      <td>4</td>\n",
       "      <td>2</td>\n",
       "      <td>3</td>\n",
       "      <td>yes</td>\n",
       "      <td>no</td>\n",
       "      <td>no</td>\n",
       "      <td>no</td>\n",
       "      <td>yes</td>\n",
       "      <td>2</td>\n",
       "      <td>yes</td>\n",
       "      <td>furnished</td>\n",
       "    </tr>\n",
       "    <tr>\n",
       "      <th>1</th>\n",
       "      <td>12250000</td>\n",
       "      <td>8960</td>\n",
       "      <td>4</td>\n",
       "      <td>4</td>\n",
       "      <td>4</td>\n",
       "      <td>yes</td>\n",
       "      <td>no</td>\n",
       "      <td>no</td>\n",
       "      <td>no</td>\n",
       "      <td>yes</td>\n",
       "      <td>3</td>\n",
       "      <td>no</td>\n",
       "      <td>furnished</td>\n",
       "    </tr>\n",
       "    <tr>\n",
       "      <th>2</th>\n",
       "      <td>12250000</td>\n",
       "      <td>9960</td>\n",
       "      <td>3</td>\n",
       "      <td>2</td>\n",
       "      <td>2</td>\n",
       "      <td>yes</td>\n",
       "      <td>no</td>\n",
       "      <td>yes</td>\n",
       "      <td>no</td>\n",
       "      <td>no</td>\n",
       "      <td>2</td>\n",
       "      <td>yes</td>\n",
       "      <td>semi-furnished</td>\n",
       "    </tr>\n",
       "    <tr>\n",
       "      <th>3</th>\n",
       "      <td>12215000</td>\n",
       "      <td>7500</td>\n",
       "      <td>4</td>\n",
       "      <td>2</td>\n",
       "      <td>2</td>\n",
       "      <td>yes</td>\n",
       "      <td>no</td>\n",
       "      <td>yes</td>\n",
       "      <td>no</td>\n",
       "      <td>yes</td>\n",
       "      <td>3</td>\n",
       "      <td>yes</td>\n",
       "      <td>furnished</td>\n",
       "    </tr>\n",
       "    <tr>\n",
       "      <th>4</th>\n",
       "      <td>11410000</td>\n",
       "      <td>7420</td>\n",
       "      <td>4</td>\n",
       "      <td>1</td>\n",
       "      <td>2</td>\n",
       "      <td>yes</td>\n",
       "      <td>yes</td>\n",
       "      <td>yes</td>\n",
       "      <td>no</td>\n",
       "      <td>yes</td>\n",
       "      <td>2</td>\n",
       "      <td>no</td>\n",
       "      <td>furnished</td>\n",
       "    </tr>\n",
       "    <tr>\n",
       "      <th>...</th>\n",
       "      <td>...</td>\n",
       "      <td>...</td>\n",
       "      <td>...</td>\n",
       "      <td>...</td>\n",
       "      <td>...</td>\n",
       "      <td>...</td>\n",
       "      <td>...</td>\n",
       "      <td>...</td>\n",
       "      <td>...</td>\n",
       "      <td>...</td>\n",
       "      <td>...</td>\n",
       "      <td>...</td>\n",
       "      <td>...</td>\n",
       "    </tr>\n",
       "    <tr>\n",
       "      <th>540</th>\n",
       "      <td>1820000</td>\n",
       "      <td>3000</td>\n",
       "      <td>2</td>\n",
       "      <td>1</td>\n",
       "      <td>1</td>\n",
       "      <td>yes</td>\n",
       "      <td>no</td>\n",
       "      <td>yes</td>\n",
       "      <td>no</td>\n",
       "      <td>no</td>\n",
       "      <td>2</td>\n",
       "      <td>no</td>\n",
       "      <td>unfurnished</td>\n",
       "    </tr>\n",
       "    <tr>\n",
       "      <th>541</th>\n",
       "      <td>1767150</td>\n",
       "      <td>2400</td>\n",
       "      <td>3</td>\n",
       "      <td>1</td>\n",
       "      <td>1</td>\n",
       "      <td>no</td>\n",
       "      <td>no</td>\n",
       "      <td>no</td>\n",
       "      <td>no</td>\n",
       "      <td>no</td>\n",
       "      <td>0</td>\n",
       "      <td>no</td>\n",
       "      <td>semi-furnished</td>\n",
       "    </tr>\n",
       "    <tr>\n",
       "      <th>542</th>\n",
       "      <td>1750000</td>\n",
       "      <td>3620</td>\n",
       "      <td>2</td>\n",
       "      <td>1</td>\n",
       "      <td>1</td>\n",
       "      <td>yes</td>\n",
       "      <td>no</td>\n",
       "      <td>no</td>\n",
       "      <td>no</td>\n",
       "      <td>no</td>\n",
       "      <td>0</td>\n",
       "      <td>no</td>\n",
       "      <td>unfurnished</td>\n",
       "    </tr>\n",
       "    <tr>\n",
       "      <th>543</th>\n",
       "      <td>1750000</td>\n",
       "      <td>2910</td>\n",
       "      <td>3</td>\n",
       "      <td>1</td>\n",
       "      <td>1</td>\n",
       "      <td>no</td>\n",
       "      <td>no</td>\n",
       "      <td>no</td>\n",
       "      <td>no</td>\n",
       "      <td>no</td>\n",
       "      <td>0</td>\n",
       "      <td>no</td>\n",
       "      <td>furnished</td>\n",
       "    </tr>\n",
       "    <tr>\n",
       "      <th>544</th>\n",
       "      <td>1750000</td>\n",
       "      <td>3850</td>\n",
       "      <td>3</td>\n",
       "      <td>1</td>\n",
       "      <td>2</td>\n",
       "      <td>yes</td>\n",
       "      <td>no</td>\n",
       "      <td>no</td>\n",
       "      <td>no</td>\n",
       "      <td>no</td>\n",
       "      <td>0</td>\n",
       "      <td>no</td>\n",
       "      <td>unfurnished</td>\n",
       "    </tr>\n",
       "  </tbody>\n",
       "</table>\n",
       "<p>545 rows × 13 columns</p>\n",
       "</div>"
      ],
      "text/plain": [
       "        price  area  bedrooms  bathrooms  stories mainroad guestroom basement  \\\n",
       "0    13300000  7420         4          2        3      yes        no       no   \n",
       "1    12250000  8960         4          4        4      yes        no       no   \n",
       "2    12250000  9960         3          2        2      yes        no      yes   \n",
       "3    12215000  7500         4          2        2      yes        no      yes   \n",
       "4    11410000  7420         4          1        2      yes       yes      yes   \n",
       "..        ...   ...       ...        ...      ...      ...       ...      ...   \n",
       "540   1820000  3000         2          1        1      yes        no      yes   \n",
       "541   1767150  2400         3          1        1       no        no       no   \n",
       "542   1750000  3620         2          1        1      yes        no       no   \n",
       "543   1750000  2910         3          1        1       no        no       no   \n",
       "544   1750000  3850         3          1        2      yes        no       no   \n",
       "\n",
       "    hotwaterheating airconditioning  parking prefarea furnishingstatus  \n",
       "0                no             yes        2      yes        furnished  \n",
       "1                no             yes        3       no        furnished  \n",
       "2                no              no        2      yes   semi-furnished  \n",
       "3                no             yes        3      yes        furnished  \n",
       "4                no             yes        2       no        furnished  \n",
       "..              ...             ...      ...      ...              ...  \n",
       "540              no              no        2       no      unfurnished  \n",
       "541              no              no        0       no   semi-furnished  \n",
       "542              no              no        0       no      unfurnished  \n",
       "543              no              no        0       no        furnished  \n",
       "544              no              no        0       no      unfurnished  \n",
       "\n",
       "[545 rows x 13 columns]"
      ]
     },
     "execution_count": 11,
     "metadata": {},
     "output_type": "execute_result"
    }
   ],
   "source": [
    "data"
   ]
  },
  {
   "cell_type": "code",
   "execution_count": 12,
   "id": "c02f81f5",
   "metadata": {},
   "outputs": [],
   "source": [
    "x= np.array([[2104, 5, 1, 45], [1416, 3, 2, 40], [852, 2, 1, 35]])\n",
    "y= np.array([460, 232, 178])\n"
   ]
  },
  {
   "cell_type": "code",
   "execution_count": 13,
   "id": "5747222e",
   "metadata": {},
   "outputs": [
    {
     "data": {
      "text/plain": [
       "array([[2104,    5,    1,   45],\n",
       "       [1416,    3,    2,   40],\n",
       "       [ 852,    2,    1,   35]])"
      ]
     },
     "execution_count": 13,
     "metadata": {},
     "output_type": "execute_result"
    }
   ],
   "source": [
    "x"
   ]
  },
  {
   "cell_type": "code",
   "execution_count": 14,
   "id": "46ed79d9",
   "metadata": {},
   "outputs": [
    {
     "data": {
      "text/plain": [
       "array([[2104,    5,    1,   45],\n",
       "       [1416,    3,    2,   40],\n",
       "       [ 852,    2,    1,   35]])"
      ]
     },
     "execution_count": 14,
     "metadata": {},
     "output_type": "execute_result"
    }
   ],
   "source": [
    "x"
   ]
  },
  {
   "cell_type": "code",
   "execution_count": 15,
   "id": "73b51209",
   "metadata": {},
   "outputs": [
    {
     "data": {
      "text/plain": [
       "array([460, 232, 178])"
      ]
     },
     "execution_count": 15,
     "metadata": {},
     "output_type": "execute_result"
    }
   ],
   "source": [
    "y"
   ]
  },
  {
   "cell_type": "code",
   "execution_count": 16,
   "id": "850c902f",
   "metadata": {},
   "outputs": [],
   "source": [
    "x_features=[\"area\",\"bedrooms\",\"bathrooms\",\"stories\",\"parking\"]"
   ]
  },
  {
   "cell_type": "code",
   "execution_count": 17,
   "id": "9a22a497",
   "metadata": {},
   "outputs": [
    {
     "name": "stdout",
     "output_type": "stream",
     "text": [
      "[[2104    5    1   45]\n",
      " [1416    3    2   40]\n",
      " [ 852    2    1   35]]\n"
     ]
    }
   ],
   "source": [
    "df=np.array(x)\n",
    "print(df)"
   ]
  },
  {
   "cell_type": "code",
   "execution_count": 18,
   "id": "d7469948",
   "metadata": {},
   "outputs": [
    {
     "data": {
      "image/png": "[encoded data removed]",
      "text/plain": [
       "<Figure size 1200x300 with 4 Axes>"
      ]
     },
     "metadata": {},
     "output_type": "display_data"
    }
   ],
   "source": [
    "fig,ax=plt.subplots(1, 4, figsize=(12, 3), sharey=True)\n",
    "for i in range(len(ax)):\n",
    "    ax[i].scatter(df[:, i],y)\n",
    "    ax[i].set_xlabel(x_features[i])\n",
    "    ax[i].set_ylabel(\"price\")\n"
   ]
  },
  {
   "cell_type": "code",
   "execution_count": 19,
   "id": "d673b1f7",
   "metadata": {},
   "outputs": [],
   "source": [
    "def compute_cost(x,y,w,b):\n",
    "    m,n=x.shape\n",
    "    cost=0\n",
    "    m, n = x.shape\n",
    "    f_wb = np.zeros(m)\n",
    "    for i in range(m):\n",
    "      f_wb = np.dot(x[i], w) + b\n",
    "      cost=(f_wb-y[i])**2 + cost\n",
    "    \n",
    "    total_cost=cost/(2*m)\n",
    "    return total_cost\n",
    "        \n",
    "        \n",
    "    \n",
    "    \n",
    "    "
   ]
  },
  {
   "cell_type": "code",
   "execution_count": 20,
   "id": "34a56bed",
   "metadata": {},
   "outputs": [
    {
     "name": "stdout",
     "output_type": "stream",
     "text": [
      "(3, 4)\n",
      "49518.0\n"
     ]
    }
   ],
   "source": [
    "w=np.zeros(x.shape[1])\n",
    "b=0\n",
    "print(x.shape)\n",
    "tmp_cost=compute_cost(x,y,w,b)\n",
    "print(tmp_cost)"
   ]
  },
  {
   "cell_type": "markdown",
   "id": "24bf245c",
   "metadata": {},
   "source": [
    "## Normalising"
   ]
  },
  {
   "cell_type": "code",
   "execution_count": 71,
   "id": "62982406",
   "metadata": {},
   "outputs": [
    {
     "name": "stdout",
     "output_type": "stream",
     "text": [
      "[[1.         1.         0.         1.        ]\n",
      " [0.45047923 0.33333333 1.         0.5       ]\n",
      " [0.         0.         0.         0.        ]]\n"
     ]
    }
   ],
   "source": [
    "import pandas as pd\n",
    "from sklearn.preprocessing import MinMaxScaler\n",
    "import numpy as np\n",
    "\n",
    "def min_max_normalize(matrix):\n",
    "    min_vals = np.min(matrix, axis=0)\n",
    "    max_vals = np.max(matrix, axis=0)\n",
    "    normalized_matrix = (matrix - min_vals) / (max_vals - min_vals)\n",
    "    return normalized_matrix\n",
    "\n",
    "# Example usage\n",
    "\n",
    "\n",
    "norm_x = min_max_normalize(x)\n",
    "print(norm_x)\n",
    "\n"
   ]
  },
  {
   "cell_type": "code",
   "execution_count": 72,
   "id": "470d17ef",
   "metadata": {},
   "outputs": [
    {
     "name": "stdout",
     "output_type": "stream",
     "text": [
      "[1.         0.19148936 0.        ]\n",
      "[1.         0.19148936 0.        ]\n"
     ]
    }
   ],
   "source": [
    "scaler_y = MinMaxScaler()\n",
    "\n",
    "# Reshape y to 2D array and fit-transform\n",
    "y_norm =min_max_normalize(y)\n",
    "print(y_norm)\n",
    "# Create a new DataFrame with the normalized target variable\n",
    "\n",
    "print(y_norm)"
   ]
  },
  {
   "cell_type": "code",
   "execution_count": null,
   "id": "ae336627",
   "metadata": {},
   "outputs": [],
   "source": []
  },
  {
   "cell_type": "markdown",
   "id": "daab4653",
   "metadata": {},
   "source": [
    "## Gradient Descent"
   ]
  },
  {
   "cell_type": "code",
   "execution_count": 73,
   "id": "c94ca92b",
   "metadata": {},
   "outputs": [],
   "source": [
    "def comp_descent(x, y, w, b):\n",
    "    m, n = x.shape\n",
    "    temp = np.zeros(n)\n",
    "\n",
    "    for i in range(m):\n",
    "        f_wb = np.dot(w, x[i]) + b\n",
    "\n",
    "        for j in range(n):\n",
    "            \n",
    "            temp[j] += (f_wb - y[i]) * x[i][j]\n",
    "\n",
    "    dj_dw = temp / m\n",
    "    dj_db = (f_wb - y[i])  # This might need adjustment based on your specific requirements\n",
    "\n",
    "    return dj_dw, dj_db\n",
    "\n",
    "    \n",
    "\n",
    "        \n",
    "        "
   ]
  },
  {
   "cell_type": "code",
   "execution_count": 122,
   "id": "d27db81a",
   "metadata": {},
   "outputs": [],
   "source": [
    "iters=10000\n",
    "w_init=np.zeros(x.shape[1])\n",
    "b_init=0\n",
    "m,n=x.shape\n",
    "j_wb=[]\n",
    "it=[]\n",
    "w_f=[]\n",
    "\n",
    "f=np.zeros(n)\n",
    "\n",
    "def gradient_descent(x,y,w,b,iters,lr):\n",
    "    m,n=x.shape\n",
    "    j=0\n",
    "    dj_dw=np.zeros(m)\n",
    "    dj_db=np.zeros(m)\n",
    "    for i in range(iters):\n",
    "        dj_dw,dj_db=comp_descent(x,y,w,b)\n",
    "        temp_w=w-lr*dj_dw\n",
    "        temp_b=b-lr*dj_db\n",
    "        w=temp_w\n",
    "        for k in range(n):\n",
    "            w_f.append(w[k])\n",
    "        b=temp_b\n",
    "        \n",
    "        f=compute_cost(x,y,w,b)\n",
    "        j_wb.append(f)\n",
    "        it.append(i)\n",
    "\n",
    "        \n",
    "        if i%500 == 0:\n",
    "            print(f\"Iteration {i:3}: Cost  {compute_cost(x, y, w, b)}\\n\"\n",
    "                  f\"dj_dw: {dj_dw}\\n\"\n",
    "                  f\"dj_db: {dj_db}\\n\"\n",
    "                  f\"w: {w}\\n\"\n",
    "                  f\"b: {b}\")\n",
    "\n",
    "      \n",
    "    print(f\"final w{w} and final b is {b}\")\n",
    "    return w,b,j_wb,it,w_f\n",
    "    \n",
    "        "
   ]
  },
  {
   "cell_type": "code",
   "execution_count": 123,
   "id": "53c79cf7",
   "metadata": {},
   "outputs": [
    {
     "name": "stdout",
     "output_type": "stream",
     "text": [
      "<class 'numpy.ndarray'>\n",
      "<class 'numpy.ndarray'>\n",
      "Iteration   0: Cost  0.4991310414002348\n",
      "dj_dw: [-0.95963319 -0.98845582  0.33557983 -0.94201177]\n",
      "dj_db: 0.9164333182403027\n",
      "w: [ 0.00028789  0.00029654 -0.00010067  0.0002826 ]\n",
      "b: -0.0002749299954720908\n",
      "Iteration 500: Cost  0.21609990430211068\n",
      "dj_dw: [-0.60938909 -0.63416355  0.26182014 -0.59541324]\n",
      "dj_db: 0.4449771348129957\n",
      "w: [ 0.1159459   0.11996607 -0.044594    0.11358535]\n",
      "b: -0.09925086942557289\n",
      "Iteration 1000: Cost  0.10207803226069391\n",
      "dj_dw: [-0.3862603  -0.40755515  0.20804992 -0.37499463]\n",
      "dj_db: 0.16885816794328778\n",
      "w: [ 0.18933192  0.19680018 -0.07962165  0.1850883 ]\n",
      "b: -0.14335173089049974\n",
      "Iteration 1500: Cost  0.053799065277911166\n",
      "dj_dw: [-0.24421203 -0.26251599  0.16797893 -0.23500564]\n",
      "dj_db: 0.013224219885513921\n",
      "w: [ 0.23579614  0.24622821 -0.10767637  0.23002421]\n",
      "b: -0.15582266293754704\n",
      "Iteration 2000: Cost  0.031504635069858046\n",
      "dj_dw: [-0.15386704 -0.16960019  0.13745997 -0.1462582 ]\n",
      "dj_db: -0.0690150144319176\n",
      "w: [ 0.26512854  0.27810815 -0.13048008  0.25810057]\n",
      "b: -0.15092441765784753\n",
      "Iteration 2500: Cost  0.01993946316023444\n",
      "dj_dw: [-0.09648012 -0.11000353  0.11373229 -0.09013432]\n",
      "dj_db: -0.10733922768258919\n",
      "w: [ 0.28357096  0.2987403  -0.14924432  0.27550015]\n",
      "b: -0.13727770184530458\n",
      "Iteration 3000: Cost  0.013197544369705041\n",
      "dj_dw: [-0.06009187 -0.07171591  0.09493617 -0.05476143]\n",
      "dj_db: -0.12007997493815126\n",
      "w: [ 0.2951014   0.31215292 -0.16483901  0.28615769]\n",
      "b: -0.11998272445560272\n",
      "Iteration 3500: Cost  0.00890905943695148\n",
      "dj_dw: [-0.0370737  -0.04706512  0.07980067 -0.03257113]\n",
      "dj_db: -0.11853115340731513\n",
      "w: [ 0.30225362  0.32092297 -0.17790248  0.29257461]\n",
      "b: -0.10195931708500341\n",
      "Iteration 4000: Cost  0.006042752906542106\n",
      "dj_dw: [-0.02256074 -0.03114885  0.06744253 -0.01874111]\n",
      "dj_db: -0.1095604112975258\n",
      "w: [ 0.30664027  0.32670022 -0.18891354  0.29633879]\n",
      "b: -0.08479155374323032\n",
      "Iteration 4500: Cost  0.004087132115478397\n",
      "dj_dw: [-0.01345167 -0.02083357  0.05723603 -0.01020079]\n",
      "dj_db: -0.09726558819376907\n",
      "w: [ 0.30928666  0.3305419  -0.19823915  0.29845625]\n",
      "b: -0.06925779343454545\n",
      "Iteration 5000: Cost  0.0027480146113446247\n",
      "dj_dw: [-0.00777035 -0.01411546  0.04872853 -0.00499667]\n",
      "dj_db: -0.08402320926867846\n",
      "w: [ 0.31084377  0.33312642 -0.2061663   0.29956262]\n",
      "b: -0.055661367159575106\n",
      "Iteration 5500: Cost  0.0018354515356354382\n",
      "dj_dw: [-0.00425838 -0.00971231  0.04158541 -0.00188742]\n",
      "dj_db: -0.07115029698534592\n",
      "w: [ 0.31172411  0.33488987 -0.21292345  0.30005801]\n",
      "b: -0.04403523229435358\n",
      "Iteration 6000: Cost  0.0012187638167200532\n",
      "dj_dw: [-2.11510194e-03 -6.80301779e-03  3.55537286e-02 -8.55359606e-05]\n",
      "dj_db: -0.059320525908638344\n",
      "w: [ 0.3121884   0.33611323 -0.21869542  0.300193  ]\n",
      "b: -0.034267206910778884\n",
      "Iteration 6500: Cost  0.000805945523624985\n",
      "dj_dw: [-0.00083167 -0.00486116  0.03043827  0.00090748]\n",
      "dj_db: -0.04882456004776481\n",
      "w: [ 0.31240082  0.33697811 -0.22363364  0.3001234 ]\n",
      "b: -0.02617537612161194\n",
      "Iteration 7000: Cost  0.0005321519779772413\n",
      "dj_dw: [-8.52238841e-05 -3.54876880e-03  2.60853627e-02  1.40624114e-03]\n",
      "dj_db: -0.03973176597456207\n",
      "w: [ 0.31246425  0.33760237 -0.22786356  0.29994506]\n",
      "b: -0.019552422947093563\n",
      "Iteration 7500: Cost  0.0003520816072791827\n",
      "dj_dw: [ 0.00032867 -0.00264841  0.02237197  0.00160848]\n",
      "dj_db: -0.0319896793908242\n",
      "w: [ 0.31244272  0.33806288 -0.23148998  0.29971612]\n",
      "b: -0.014190738250222138\n",
      "Iteration 8000: Cost  0.00023447501151683167\n",
      "dj_dw: [ 0.00053908 -0.00201987  0.01919809  0.00163774]\n",
      "dj_db: -0.025484335592725893\n",
      "w: [ 0.31237565  0.33841017 -0.23460106  0.29947105]\n",
      "b: -0.009895779151136158\n",
      "Iteration 8500: Cost  0.0001580448902340211\n",
      "dj_dw: [ 0.00062714 -0.0015724   0.01648146  0.0015706 ]\n",
      "dj_db: -0.020076122396981533\n",
      "w: [ 0.31228702  0.33867769 -0.23727136  0.29922958]\n",
      "b: -0.006492361432648524\n",
      "Iteration 9000: Cost  0.0001084814905288313\n",
      "dj_dw: [ 0.00064361 -0.00124701  0.01415369  0.00145399]\n",
      "dj_db: -0.015620433424977986\n",
      "w: [ 0.31219104  0.33888784 -0.23956417  0.29900234]\n",
      "b: -0.0038268073188677636\n",
      "Iteration 9500: Cost  7.628448739506358e-05\n",
      "dj_dw: [ 0.00061995 -0.00100513  0.01215754  0.00131615]\n",
      "dj_db: -0.011978977233682242\n",
      "w: [ 0.31209592  0.33905586 -0.24153338  0.29879446]\n",
      "b: -0.0017667548328173764\n",
      "final w[ 0.31200627  0.33919196 -0.24322189  0.29860811] and final b is -0.00020243994549717614\n"
     ]
    }
   ],
   "source": [
    "j_wb=[]\n",
    "it=[]\n",
    "w_f=[]\n",
    "lr=0.0003\n",
    "print(type(x))\n",
    "print(type(y))\n",
    "\n",
    "X_norm= (x - np.mean(x, axis=0)) / np.std(x, axis=0)\n",
    "y_norm = (y - np.mean(y)) / np.std(y)\n",
    "w,b,j_wb,it,w_f=gradient_descent(X_norm,y_norm,w_init,b_init,iters,lr)\n",
    "\n",
    "   "
   ]
  },
  {
   "cell_type": "code",
   "execution_count": 124,
   "id": "c9eb5f3a",
   "metadata": {},
   "outputs": [
    {
     "name": "stdout",
     "output_type": "stream",
     "text": [
      "Predicted values: [1.45495453]\n"
     ]
    }
   ],
   "source": [
    "import numpy as np\n",
    "\n",
    "# Define predict function\n",
    "def predict(X, w, b):\n",
    "    predictions = np.dot(X, w) + b\n",
    "    return predictions\n",
    "\n",
    "# Example usage with your normalized test data\n",
    "X_test = np.array([[1, 2, 3, 4]])  # Replace with your actual test data\n",
    "y_pred = predict(X_test, w, b)\n",
    "\n",
    "print(\"Predicted values:\", y_pred)\n"
   ]
  },
  {
   "cell_type": "code",
   "execution_count": 76,
   "id": "33afb06c",
   "metadata": {},
   "outputs": [
    {
     "data": {
      "text/plain": [
       "[<matplotlib.lines.Line2D at 0x2317e657978>]"
      ]
     },
     "execution_count": 76,
     "metadata": {},
     "output_type": "execute_result"
    },
    {
     "data": {
      "image/png": "[encoded data removed]",
      "text/plain": [
       "<Figure size 640x480 with 1 Axes>"
      ]
     },
     "metadata": {},
     "output_type": "display_data"
    }
   ],
   "source": [
    "plt.plot(it,j_wb)"
   ]
  },
  {
   "cell_type": "code",
   "execution_count": 77,
   "id": "8eb53e9d",
   "metadata": {},
   "outputs": [
    {
     "ename": "ValueError",
     "evalue": "x and y must have same first dimension, but have shapes (40000,) and (10000,)",
     "output_type": "error",
     "traceback": [
      "\u001b[1;31m---------------------------------------------------------------------------\u001b[0m",
      "\u001b[1;31mValueError\u001b[0m                                Traceback (most recent call last)",
      "\u001b[1;32m~\\AppData\\Local\\Temp\\ipykernel_8544\\3859331033.py\u001b[0m in \u001b[0;36m<module>\u001b[1;34m\u001b[0m\n\u001b[1;32m----> 1\u001b[1;33m \u001b[0mplt\u001b[0m\u001b[1;33m.\u001b[0m\u001b[0mplot\u001b[0m\u001b[1;33m(\u001b[0m\u001b[0mw_f\u001b[0m\u001b[1;33m,\u001b[0m\u001b[0mj_wb\u001b[0m\u001b[1;33m)\u001b[0m\u001b[1;33m\u001b[0m\u001b[0m\n\u001b[0m",
      "\u001b[1;32mc:\\users\\rhea tiwari\\appdata\\local\\programs\\python\\python37\\lib\\site-packages\\matplotlib\\pyplot.py\u001b[0m in \u001b[0;36mplot\u001b[1;34m(scalex, scaley, data, *args, **kwargs)\u001b[0m\n\u001b[0;32m   2767\u001b[0m     return gca().plot(\n\u001b[0;32m   2768\u001b[0m         \u001b[1;33m*\u001b[0m\u001b[0margs\u001b[0m\u001b[1;33m,\u001b[0m \u001b[0mscalex\u001b[0m\u001b[1;33m=\u001b[0m\u001b[0mscalex\u001b[0m\u001b[1;33m,\u001b[0m \u001b[0mscaley\u001b[0m\u001b[1;33m=\u001b[0m\u001b[0mscaley\u001b[0m\u001b[1;33m,\u001b[0m\u001b[1;33m\u001b[0m\u001b[0m\n\u001b[1;32m-> 2769\u001b[1;33m         **({\"data\": data} if data is not None else {}), **kwargs)\n\u001b[0m\u001b[0;32m   2770\u001b[0m \u001b[1;33m\u001b[0m\u001b[0m\n\u001b[0;32m   2771\u001b[0m \u001b[1;33m\u001b[0m\u001b[0m\n",
      "\u001b[1;32mc:\\users\\rhea tiwari\\appdata\\local\\programs\\python\\python37\\lib\\site-packages\\matplotlib\\axes\\_axes.py\u001b[0m in \u001b[0;36mplot\u001b[1;34m(self, scalex, scaley, data, *args, **kwargs)\u001b[0m\n\u001b[0;32m   1633\u001b[0m         \"\"\"\n\u001b[0;32m   1634\u001b[0m         \u001b[0mkwargs\u001b[0m \u001b[1;33m=\u001b[0m \u001b[0mcbook\u001b[0m\u001b[1;33m.\u001b[0m\u001b[0mnormalize_kwargs\u001b[0m\u001b[1;33m(\u001b[0m\u001b[0mkwargs\u001b[0m\u001b[1;33m,\u001b[0m \u001b[0mmlines\u001b[0m\u001b[1;33m.\u001b[0m\u001b[0mLine2D\u001b[0m\u001b[1;33m)\u001b[0m\u001b[1;33m\u001b[0m\u001b[0m\n\u001b[1;32m-> 1635\u001b[1;33m         \u001b[0mlines\u001b[0m \u001b[1;33m=\u001b[0m \u001b[1;33m[\u001b[0m\u001b[1;33m*\u001b[0m\u001b[0mself\u001b[0m\u001b[1;33m.\u001b[0m\u001b[0m_get_lines\u001b[0m\u001b[1;33m(\u001b[0m\u001b[1;33m*\u001b[0m\u001b[0margs\u001b[0m\u001b[1;33m,\u001b[0m \u001b[0mdata\u001b[0m\u001b[1;33m=\u001b[0m\u001b[0mdata\u001b[0m\u001b[1;33m,\u001b[0m \u001b[1;33m**\u001b[0m\u001b[0mkwargs\u001b[0m\u001b[1;33m)\u001b[0m\u001b[1;33m]\u001b[0m\u001b[1;33m\u001b[0m\u001b[0m\n\u001b[0m\u001b[0;32m   1636\u001b[0m         \u001b[1;32mfor\u001b[0m \u001b[0mline\u001b[0m \u001b[1;32min\u001b[0m \u001b[0mlines\u001b[0m\u001b[1;33m:\u001b[0m\u001b[1;33m\u001b[0m\u001b[0m\n\u001b[0;32m   1637\u001b[0m             \u001b[0mself\u001b[0m\u001b[1;33m.\u001b[0m\u001b[0madd_line\u001b[0m\u001b[1;33m(\u001b[0m\u001b[0mline\u001b[0m\u001b[1;33m)\u001b[0m\u001b[1;33m\u001b[0m\u001b[0m\n",
      "\u001b[1;32mc:\\users\\rhea tiwari\\appdata\\local\\programs\\python\\python37\\lib\\site-packages\\matplotlib\\axes\\_base.py\u001b[0m in \u001b[0;36m__call__\u001b[1;34m(self, data, *args, **kwargs)\u001b[0m\n\u001b[0;32m    310\u001b[0m                 \u001b[0mthis\u001b[0m \u001b[1;33m+=\u001b[0m \u001b[0margs\u001b[0m\u001b[1;33m[\u001b[0m\u001b[1;36m0\u001b[0m\u001b[1;33m]\u001b[0m\u001b[1;33m,\u001b[0m\u001b[1;33m\u001b[0m\u001b[0m\n\u001b[0;32m    311\u001b[0m                 \u001b[0margs\u001b[0m \u001b[1;33m=\u001b[0m \u001b[0margs\u001b[0m\u001b[1;33m[\u001b[0m\u001b[1;36m1\u001b[0m\u001b[1;33m:\u001b[0m\u001b[1;33m]\u001b[0m\u001b[1;33m\u001b[0m\u001b[0m\n\u001b[1;32m--> 312\u001b[1;33m             \u001b[1;32myield\u001b[0m \u001b[1;32mfrom\u001b[0m \u001b[0mself\u001b[0m\u001b[1;33m.\u001b[0m\u001b[0m_plot_args\u001b[0m\u001b[1;33m(\u001b[0m\u001b[0mthis\u001b[0m\u001b[1;33m,\u001b[0m \u001b[0mkwargs\u001b[0m\u001b[1;33m)\u001b[0m\u001b[1;33m\u001b[0m\u001b[0m\n\u001b[0m\u001b[0;32m    313\u001b[0m \u001b[1;33m\u001b[0m\u001b[0m\n\u001b[0;32m    314\u001b[0m     \u001b[1;32mdef\u001b[0m \u001b[0mget_next_color\u001b[0m\u001b[1;33m(\u001b[0m\u001b[0mself\u001b[0m\u001b[1;33m)\u001b[0m\u001b[1;33m:\u001b[0m\u001b[1;33m\u001b[0m\u001b[0m\n",
      "\u001b[1;32mc:\\users\\rhea tiwari\\appdata\\local\\programs\\python\\python37\\lib\\site-packages\\matplotlib\\axes\\_base.py\u001b[0m in \u001b[0;36m_plot_args\u001b[1;34m(self, tup, kwargs, return_kwargs)\u001b[0m\n\u001b[0;32m    496\u001b[0m \u001b[1;33m\u001b[0m\u001b[0m\n\u001b[0;32m    497\u001b[0m         \u001b[1;32mif\u001b[0m \u001b[0mx\u001b[0m\u001b[1;33m.\u001b[0m\u001b[0mshape\u001b[0m\u001b[1;33m[\u001b[0m\u001b[1;36m0\u001b[0m\u001b[1;33m]\u001b[0m \u001b[1;33m!=\u001b[0m \u001b[0my\u001b[0m\u001b[1;33m.\u001b[0m\u001b[0mshape\u001b[0m\u001b[1;33m[\u001b[0m\u001b[1;36m0\u001b[0m\u001b[1;33m]\u001b[0m\u001b[1;33m:\u001b[0m\u001b[1;33m\u001b[0m\u001b[0m\n\u001b[1;32m--> 498\u001b[1;33m             raise ValueError(f\"x and y must have same first dimension, but \"\n\u001b[0m\u001b[0;32m    499\u001b[0m                              f\"have shapes {x.shape} and {y.shape}\")\n\u001b[0;32m    500\u001b[0m         \u001b[1;32mif\u001b[0m \u001b[0mx\u001b[0m\u001b[1;33m.\u001b[0m\u001b[0mndim\u001b[0m \u001b[1;33m>\u001b[0m \u001b[1;36m2\u001b[0m \u001b[1;32mor\u001b[0m \u001b[0my\u001b[0m\u001b[1;33m.\u001b[0m\u001b[0mndim\u001b[0m \u001b[1;33m>\u001b[0m \u001b[1;36m2\u001b[0m\u001b[1;33m:\u001b[0m\u001b[1;33m\u001b[0m\u001b[0m\n",
      "\u001b[1;31mValueError\u001b[0m: x and y must have same first dimension, but have shapes (40000,) and (10000,)"
     ]
    },
    {
     "data": {
      "image/png": "[encoded data removed]",
      "text/plain": [
       "<Figure size 640x480 with 1 Axes>"
      ]
     },
     "metadata": {},
     "output_type": "display_data"
    }
   ],
   "source": [
    "plt.plot(w_f,j_wb)"
   ]
  },
  {
   "cell_type": "code",
   "execution_count": 78,
   "id": "59414234",
   "metadata": {},
   "outputs": [
    {
     "name": "stdout",
     "output_type": "stream",
     "text": [
      "[1. 1. 1. 1.]\n"
     ]
    }
   ],
   "source": [
    "epsilon=np.array([0.0000001,0.0000001,0.0000001,0.0000001])\n",
    "old_cost=np.ones(n)\n",
    "print(old_cost)\n",
    "w_f=[]\n",
    "j_wb=[]\n",
    "it=[]\n",
    "def gradient_descent_final(x,y,w,b,iters,lr,epsilon,old_cost):\n",
    "    m,n=x.shape\n",
    "    i=0\n",
    "    dj_dw=np.zeros(n)\n",
    "    dj_db=np.zeros(n)\n",
    "    new_cost=compute_cost(x,y,w,b)\n",
    "    new_f=new_cost\n",
    "    old=(old_cost-new_f)\n",
    "    #old=float(old)\n",
    "   \n",
    "    while(epsilon<(old_cost-new_cost)).any():\n",
    "        dj_dw,dj_db=comp_descent(x,y,w,b)\n",
    "        temp_w=w-lr*dj_dw\n",
    "        temp_b=b-lr*dj_db\n",
    "        w=temp_w\n",
    "        w_f.append(w)\n",
    "        b=temp_b\n",
    "        f=compute_cost(x,y,w,b)\n",
    "        \n",
    "        j_wb.append(f)\n",
    "        \n",
    "        it.append(i)\n",
    "        i=i+1\n",
    "        old_cost=new_cost\n",
    "        new_cost=f\n",
    "        \n",
    "\n",
    "        \n",
    "        if (i%1000 == 0):\n",
    "            print(f\"Iteration {i:3}: Cost  {compute_cost(x, y, w, b)}\\n\"\n",
    "                  f\"dj_dw: {dj_dw}\\n\"\n",
    "                  f\"dj_db: {dj_db}\\n\"\n",
    "                  f\"w: {w}\\n\"\n",
    "                  f\"b: {b}\")\n",
    "   \n",
    "\n",
    "      \n",
    "    print(f\"final w{w} and final b is {b}\")\n",
    "    return w,b,j_wb,it,w_f\n",
    "    \n",
    "\n",
    "\n",
    "\n"
   ]
  },
  {
   "cell_type": "code",
   "execution_count": 79,
   "id": "33456e20",
   "metadata": {
    "scrolled": true
   },
   "outputs": [
    {
     "name": "stdout",
     "output_type": "stream",
     "text": [
      "Iteration 1000: Cost  0.10222046801397226\n",
      "dj_dw: [-0.38661356 -0.40791486  0.20814211 -0.3753432 ]\n",
      "dj_db: 0.16927066645681876\n",
      "w: [ 0.18921604  0.19667792 -0.07955924  0.18497581]\n",
      "b: -0.14330107344011675\n",
      "Iteration 2000: Cost  0.03153556667810486\n",
      "dj_dw: [-0.15400992 -0.16974784  0.13751348 -0.14639825]\n",
      "dj_db: -0.06890199600046343\n",
      "w: [ 0.26508238  0.27805727 -0.13043885  0.25805669]\n",
      "b: -0.15094512216217712\n",
      "Iteration 3000: Cost  0.013208094936895252\n",
      "dj_dw: [-0.06014931 -0.07177686  0.09496976 -0.05481704]\n",
      "dj_db: -0.12007164588914232\n",
      "w: [ 0.29508337  0.3121314  -0.16481053  0.28614126]\n",
      "b: -0.12001874844808416\n",
      "Iteration 4000: Cost  0.0060474535917529534\n",
      "dj_dw: [-0.02258356 -0.03117427  0.06746493 -0.01876269]\n",
      "dj_db: -0.1095826950143749\n",
      "w: [ 0.3066335   0.32669087 -0.1888933   0.29633317]\n",
      "b: -0.08482442186661958\n",
      "Iteration 5000: Cost  0.0027502155485397695\n",
      "dj_dw: [-0.00777922 -0.01412624  0.04874409 -0.00500466]\n",
      "dj_db: -0.08404963563874579\n",
      "w: [ 0.31084144  0.33312218 -0.20615168  0.29956112]\n",
      "b: -0.05568657412235571\n",
      "Iteration 6000: Cost  0.0012197681835651336\n",
      "dj_dw: [-2.11839726e-03 -6.80773233e-03  3.55648203e-02 -8.82024222e-05]\n",
      "dj_db: -0.059342906053804656\n",
      "w: [ 0.31218776  0.33611119 -0.21868475  0.30019298]\n",
      "b: -0.03428500306855148\n",
      "Iteration 7000: Cost  0.0005325935796712594\n",
      "dj_dw: [-8.63315517e-05 -3.55092503e-03  2.60933935e-02  1.40559088e-03]\n",
      "dj_db: -0.039748572785552216\n",
      "w: [ 0.31246423  0.3376013  -0.22785573  0.29994548]\n",
      "b: -0.019564342476885932\n",
      "Iteration 8000: Cost  0.00023466336557150856\n",
      "dj_dw: [ 0.0005388  -0.00202092  0.01920396  0.00163779]\n",
      "dj_db: -0.025496202974654714\n",
      "w: [ 0.31237582  0.33840956 -0.2345953   0.29947155]\n",
      "b: -0.009903424451813976\n",
      "final w[ 0.31224279  0.33878128 -0.23837869  0.29912196] and final b is -0.005172306115666479\n"
     ]
    }
   ],
   "source": [
    "w_fin,b_fin,j_wb_fin,it_fin,w_f_fin=gradient_descent_final(X_norm,y_norm,w_init,b_init,2000,lr,epsilon,old_cost)"
   ]
  },
  {
   "cell_type": "code",
   "execution_count": 80,
   "id": "030d98d7",
   "metadata": {},
   "outputs": [],
   "source": [
    "def comp(x,y,w,b):\n",
    "    m,n=x.shape\n",
    "    f_wb=[]\n",
    "    j=0\n",
    "    for i in range(m):\n",
    "        f_wb.append(np.dot(w,x[i])+b)\n",
    "        \n",
    "        j=j+1\n",
    "    \n",
    "    return f_wb"
   ]
  },
  {
   "cell_type": "code",
   "execution_count": 81,
   "id": "7399d3c2",
   "metadata": {},
   "outputs": [],
   "source": [
    "from sklearn.preprocessing import MinMaxScaler\n",
    "\n",
    "# Assuming df is your dataframe\n",
    "# df_normalized = normalization_process(df)\n",
    "\n",
    "# Create a scaler and fit it on the original dataframe\n",
    "scaler = MinMaxScaler()\n",
    "scaler.fit(w_fin.reshape(-1, 1))\n",
    "\n",
    "# Transform the normalized dataframe back to the original scale\n",
    "w_denorm = pd.DataFrame(scaler.inverse_transform(w_fin.reshape(-1, 1)))\n"
   ]
  },
  {
   "cell_type": "code",
   "execution_count": 82,
   "id": "df2df9a2",
   "metadata": {},
   "outputs": [
    {
     "data": {
      "text/plain": [
       "array([ 0.31224279,  0.33878128, -0.23837869,  0.29912196])"
      ]
     },
     "execution_count": 82,
     "metadata": {},
     "output_type": "execute_result"
    }
   ],
   "source": [
    "w_fin"
   ]
  },
  {
   "cell_type": "code",
   "execution_count": 83,
   "id": "85e7d453",
   "metadata": {},
   "outputs": [],
   "source": [
    "x_arr=np.array(x)\n"
   ]
  },
  {
   "cell_type": "code",
   "execution_count": 84,
   "id": "490b12e7",
   "metadata": {},
   "outputs": [
    {
     "data": {
      "text/plain": [
       "array([[2104,    5,    1,   45],\n",
       "       [1416,    3,    2,   40],\n",
       "       [ 852,    2,    1,   35]])"
      ]
     },
     "execution_count": 84,
     "metadata": {},
     "output_type": "execute_result"
    }
   ],
   "source": [
    "x_arr"
   ]
  },
  {
   "cell_type": "code",
   "execution_count": 85,
   "id": "0e911b2d",
   "metadata": {},
   "outputs": [
    {
     "name": "stdout",
     "output_type": "stream",
     "text": [
      "[460 232 178]\n"
     ]
    }
   ],
   "source": [
    "print((y))"
   ]
  },
  {
   "cell_type": "code",
   "execution_count": 86,
   "id": "241fc6f6",
   "metadata": {},
   "outputs": [],
   "source": [
    "y_ar=np.array(y)"
   ]
  },
  {
   "cell_type": "code",
   "execution_count": 87,
   "id": "7aeb3db3",
   "metadata": {},
   "outputs": [],
   "source": [
    "y_arr=y_ar.reshape(-1, 1)"
   ]
  },
  {
   "cell_type": "code",
   "execution_count": 88,
   "id": "fac80c6e",
   "metadata": {},
   "outputs": [
    {
     "data": {
      "text/plain": [
       "array([[460],\n",
       "       [232],\n",
       "       [178]])"
      ]
     },
     "execution_count": 88,
     "metadata": {},
     "output_type": "execute_result"
    }
   ],
   "source": [
    "y_arr"
   ]
  },
  {
   "cell_type": "code",
   "execution_count": null,
   "id": "73f5d10e",
   "metadata": {},
   "outputs": [],
   "source": []
  },
  {
   "cell_type": "code",
   "execution_count": 89,
   "id": "9be38592",
   "metadata": {},
   "outputs": [],
   "source": [
    "f_wb=comp(X_norm,y_norm,w_fin,b_fin)"
   ]
  },
  {
   "cell_type": "code",
   "execution_count": 90,
   "id": "f659290c",
   "metadata": {},
   "outputs": [],
   "source": [
    "f_wb_arr=[]\n",
    "j=0\n",
    "for i in (f_wb):\n",
    "    f_wb_arr.append(i)\n",
    "    j=j+1"
   ]
  },
  {
   "cell_type": "code",
   "execution_count": 91,
   "id": "df212b37",
   "metadata": {},
   "outputs": [
    {
     "data": {
      "text/plain": [
       "[1.3768490687905461, -0.4580427712869324, -0.9343232158506135]"
      ]
     },
     "execution_count": 91,
     "metadata": {},
     "output_type": "execute_result"
    }
   ],
   "source": [
    "f_wb_arr"
   ]
  },
  {
   "cell_type": "code",
   "execution_count": 92,
   "id": "956934c5",
   "metadata": {},
   "outputs": [
    {
     "data": {
      "text/plain": [
       "3"
      ]
     },
     "execution_count": 92,
     "metadata": {},
     "output_type": "execute_result"
    }
   ],
   "source": [
    "j"
   ]
  },
  {
   "cell_type": "code",
   "execution_count": 93,
   "id": "ba16dd4c",
   "metadata": {},
   "outputs": [
    {
     "name": "stdout",
     "output_type": "stream",
     "text": [
      "3\n"
     ]
    }
   ],
   "source": [
    "k=0\n",
    "for i in y_arr:\n",
    "    k=k+1\n",
    "print(k)    "
   ]
  },
  {
   "cell_type": "code",
   "execution_count": 94,
   "id": "e4b925a0",
   "metadata": {},
   "outputs": [
    {
     "data": {
      "text/plain": [
       "array([ 1.39101486, -0.47458154, -0.91643332])"
      ]
     },
     "execution_count": 94,
     "metadata": {},
     "output_type": "execute_result"
    }
   ],
   "source": [
    "y_norm"
   ]
  },
  {
   "cell_type": "code",
   "execution_count": 95,
   "id": "15d077e0",
   "metadata": {},
   "outputs": [
    {
     "data": {
      "text/plain": [
       "<matplotlib.collections.PathCollection at 0x2317d3b4978>"
      ]
     },
     "execution_count": 95,
     "metadata": {},
     "output_type": "execute_result"
    },
    {
     "data": {
      "image/png": "[encoded data removed]",
      "text/plain": [
       "<Figure size 640x480 with 1 Axes>"
      ]
     },
     "metadata": {},
     "output_type": "display_data"
    }
   ],
   "source": [
    "plt.scatter(f_wb_arr,y_arr)"
   ]
  },
  {
   "cell_type": "code",
   "execution_count": 96,
   "id": "297781b7",
   "metadata": {},
   "outputs": [
    {
     "data": {
      "text/plain": [
       "[<matplotlib.lines.Line2D at 0x2317d44a470>]"
      ]
     },
     "execution_count": 96,
     "metadata": {},
     "output_type": "execute_result"
    },
    {
     "data": {
      "image/png": "[encoded data removed]",
      "text/plain": [
       "<Figure size 640x480 with 1 Axes>"
      ]
     },
     "metadata": {},
     "output_type": "display_data"
    }
   ],
   "source": [
    "plt.plot(f_wb_arr)"
   ]
  },
  {
   "cell_type": "code",
   "execution_count": 97,
   "id": "4000b9c6",
   "metadata": {},
   "outputs": [
    {
     "data": {
      "text/plain": [
       "[<matplotlib.lines.Line2D at 0x2315e25ee48>]"
      ]
     },
     "execution_count": 97,
     "metadata": {},
     "output_type": "execute_result"
    },
    {
     "data": {
      "image/png": "[encoded data removed]",
      "text/plain": [
       "<Figure size 640x480 with 1 Axes>"
      ]
     },
     "metadata": {},
     "output_type": "display_data"
    }
   ],
   "source": [
    "plt.plot(y_no)"
   ]
  },
  {
   "cell_type": "code",
   "execution_count": null,
   "id": "768f8419",
   "metadata": {},
   "outputs": [],
   "source": []
  },
  {
   "cell_type": "code",
   "execution_count": 98,
   "id": "b0145a59",
   "metadata": {},
   "outputs": [],
   "source": [
    "epsilon=np.array([0.000001,0.000001,0.000001,0.000001])\n",
    "old_cost=np.ones(n)*50000\n",
    "\n",
    "w_f=[]\n",
    "j_wb=[]\n",
    "it=[]\n",
    "iters=1000\n",
    "w_init=np.zeros(x.shape[1])\n",
    "b_init=0\n",
    "def gradient_descent_fin(x,y,w,b,iters,lr,epsilon,old_cost):\n",
    "    m,n=x.shape\n",
    "    i=0\n",
    "    dj_dw=np.zeros(n)\n",
    "    dj_db=np.zeros(n)\n",
    "    new_cost=compute_cost(x,y,w,b)\n",
    "    print(new_cost)\n",
    "    #old=(old_cost-new_f)\n",
    "    #old=float(old)\n",
    "    print(old_cost-new_cost)\n",
    "   \n",
    "    while(i<100):\n",
    "        print(i)\n",
    "        dj_dw,dj_db=comp_descent(x,y,w,b)\n",
    "        temp_w=w-lr*dj_dw\n",
    "        temp_b=b-lr*dj_db\n",
    "        w=temp_w\n",
    "        w_f.append(w)\n",
    "        b=temp_b\n",
    "        f=compute_cost(x,y,w,b)\n",
    "        \n",
    "        j_wb.append(f)\n",
    "        \n",
    "        it.append(i)\n",
    "        \n",
    "        old_cost=new_cost\n",
    "        new_cost=f\n",
    "        print(new_cost)\n",
    "        \n",
    "        print(i)\n",
    "\n",
    "        print(old_cost-new_cost)\n",
    "        if (i%10 == 0):\n",
    "            print(f\"Iteration {i:3}: Cost  {compute_cost(x, y, w, b)}\\n\"\n",
    "                  f\"dj_dw: {dj_dw}\\n\"\n",
    "                  f\"dj_db: {dj_db}\\n\"\n",
    "                  f\"w: {w}\\n\"\n",
    "                  f\"b: {b}\")\n",
    "        i=i+1\n",
    "\n",
    "      \n",
    "    print(f\"final w{w} and final b is {b}\")\n",
    "    return w,b,j_wb,it\n",
    "    \n",
    "\n",
    "\n",
    "\n"
   ]
  },
  {
   "cell_type": "code",
   "execution_count": 99,
   "id": "5dd06d79",
   "metadata": {},
   "outputs": [
    {
     "name": "stdout",
     "output_type": "stream",
     "text": [
      "<class 'numpy.ndarray'>\n",
      "[ 1.37684907 -0.45804277 -0.93432322]\n"
     ]
    }
   ],
   "source": [
    "f_arr=np.array(f_wb_arr)\n",
    "print(type(f_arr))\n",
    "print(f_arr)"
   ]
  },
  {
   "cell_type": "code",
   "execution_count": 100,
   "id": "c557547e",
   "metadata": {},
   "outputs": [],
   "source": [
    "x_max = np.max(x_arr)"
   ]
  },
  {
   "cell_type": "code",
   "execution_count": 101,
   "id": "6d770a83",
   "metadata": {},
   "outputs": [
    {
     "name": "stdout",
     "output_type": "stream",
     "text": [
      "460\n"
     ]
    }
   ],
   "source": [
    "y_max = np.max(y)\n",
    "print(y_max)"
   ]
  },
  {
   "cell_type": "code",
   "execution_count": 102,
   "id": "642229ec",
   "metadata": {},
   "outputs": [],
   "source": [
    "x_min=np.min(x_arr)"
   ]
  },
  {
   "cell_type": "code",
   "execution_count": 103,
   "id": "9ee2d294",
   "metadata": {},
   "outputs": [
    {
     "name": "stdout",
     "output_type": "stream",
     "text": [
      "178\n"
     ]
    }
   ],
   "source": [
    "y_min=np.min(y)\n",
    "print(y_min)"
   ]
  },
  {
   "cell_type": "code",
   "execution_count": 104,
   "id": "c7113684",
   "metadata": {},
   "outputs": [
    {
     "name": "stdout",
     "output_type": "stream",
     "text": [
      "[ 1.37684907 -0.45804277 -0.93432322]\n"
     ]
    }
   ],
   "source": [
    "prediction=reverse_min_max_normalize(f_arr,y_min,y_max)"
   ]
  },
  {
   "cell_type": "code",
   "execution_count": 105,
   "id": "70071d18",
   "metadata": {},
   "outputs": [
    {
     "data": {
      "text/plain": [
       "array([566.2714374 ,  48.8319385 , -85.47914687])"
      ]
     },
     "execution_count": 105,
     "metadata": {},
     "output_type": "execute_result"
    }
   ],
   "source": [
    "prediction"
   ]
  },
  {
   "cell_type": "code",
   "execution_count": 106,
   "id": "6c8d7621",
   "metadata": {},
   "outputs": [
    {
     "data": {
      "text/plain": [
       "array([460, 232, 178])"
      ]
     },
     "execution_count": 106,
     "metadata": {},
     "output_type": "execute_result"
    }
   ],
   "source": [
    "y"
   ]
  },
  {
   "cell_type": "code",
   "execution_count": 107,
   "id": "87a81017",
   "metadata": {},
   "outputs": [
    {
     "data": {
      "text/plain": [
       "array([ 1.39101486, -0.47458154, -0.91643332])"
      ]
     },
     "execution_count": 107,
     "metadata": {},
     "output_type": "execute_result"
    }
   ],
   "source": [
    "y_norm"
   ]
  },
  {
   "cell_type": "code",
   "execution_count": 108,
   "id": "c3862624",
   "metadata": {},
   "outputs": [],
   "source": [
    "import numpy as np\n",
    "\n",
    "def min_max_normaliz(data):\n",
    "    min_vals = np.min(data, axis=0)\n",
    "    max_vals = np.max(data, axis=0)\n",
    "    normalized_data = (data - min_vals) / (max_vals - min_vals)\n",
    "    return normalized_data\n",
    "\n",
    "# Example usage\n",
    "y_no= min_max_normaliz(y)\n",
    "x_no=min_max_normaliz(x)"
   ]
  },
  {
   "cell_type": "code",
   "execution_count": 109,
   "id": "153d062b",
   "metadata": {},
   "outputs": [
    {
     "data": {
      "text/plain": [
       "array([1.        , 0.19148936, 0.        ])"
      ]
     },
     "execution_count": 109,
     "metadata": {},
     "output_type": "execute_result"
    }
   ],
   "source": [
    "y_no"
   ]
  },
  {
   "cell_type": "code",
   "execution_count": 110,
   "id": "1549525c",
   "metadata": {},
   "outputs": [
    {
     "data": {
      "text/plain": [
       "array([[1.        , 1.        , 0.        , 1.        ],\n",
       "       [0.45047923, 0.33333333, 1.        , 0.5       ],\n",
       "       [0.        , 0.        , 0.        , 0.        ]])"
      ]
     },
     "execution_count": 110,
     "metadata": {},
     "output_type": "execute_result"
    }
   ],
   "source": [
    "x_no"
   ]
  },
  {
   "cell_type": "code",
   "execution_count": 111,
   "id": "ac05dad0",
   "metadata": {},
   "outputs": [],
   "source": [
    "def reverse_min_max_normalize(normalized_data, min_vals, max_vals):\n",
    "    print(normalized_data)\n",
    "    reversed_data = normalized_data * (max_vals - min_vals) + min_vals\n",
    "    \n",
    "    return reversed_data\n"
   ]
  },
  {
   "cell_type": "code",
   "execution_count": 112,
   "id": "90db943f",
   "metadata": {},
   "outputs": [
    {
     "name": "stdout",
     "output_type": "stream",
     "text": [
      "[ 1.37684907 -0.45804277 -0.93432322]\n"
     ]
    }
   ],
   "source": [
    "predict=reverse_min_max_normalize(f_arr,y_min, y_max)"
   ]
  },
  {
   "cell_type": "code",
   "execution_count": 113,
   "id": "66861ca2",
   "metadata": {},
   "outputs": [
    {
     "data": {
      "text/plain": [
       "array([566.2714374 ,  48.8319385 , -85.47914687])"
      ]
     },
     "execution_count": 113,
     "metadata": {},
     "output_type": "execute_result"
    }
   ],
   "source": [
    "predict"
   ]
  },
  {
   "cell_type": "code",
   "execution_count": 114,
   "id": "f70148d7",
   "metadata": {},
   "outputs": [
    {
     "data": {
      "text/plain": [
       "[<matplotlib.lines.Line2D at 0x2315e1e1a20>]"
      ]
     },
     "execution_count": 114,
     "metadata": {},
     "output_type": "execute_result"
    },
    {
     "data": {
      "image/png": "[encoded data removed]",
      "text/plain": [
       "<Figure size 640x480 with 1 Axes>"
      ]
     },
     "metadata": {},
     "output_type": "display_data"
    }
   ],
   "source": [
    "plt.plot(predict)"
   ]
  },
  {
   "cell_type": "code",
   "execution_count": 115,
   "id": "827dccfc",
   "metadata": {},
   "outputs": [
    {
     "data": {
      "text/plain": [
       "[<matplotlib.lines.Line2D at 0x2317e857358>]"
      ]
     },
     "execution_count": 115,
     "metadata": {},
     "output_type": "execute_result"
    },
    {
     "data": {
      "image/png": "[encoded data removed]",
      "text/plain": [
       "<Figure size 640x480 with 1 Axes>"
      ]
     },
     "metadata": {},
     "output_type": "display_data"
    }
   ],
   "source": [
    "plt.plot(y)"
   ]
  },
  {
   "cell_type": "code",
   "execution_count": 116,
   "id": "46e01ed0",
   "metadata": {},
   "outputs": [
    {
     "name": "stdout",
     "output_type": "stream",
     "text": [
      "[ 1.37684907 -0.45804277 -0.93432322]\n"
     ]
    }
   ],
   "source": [
    "predict=reverse_min_max_normalize(f_arr,y_min, y_max)"
   ]
  },
  {
   "cell_type": "code",
   "execution_count": 117,
   "id": "0a9ddf99",
   "metadata": {},
   "outputs": [
    {
     "data": {
      "text/plain": [
       "array([566.2714374 ,  48.8319385 , -85.47914687])"
      ]
     },
     "execution_count": 117,
     "metadata": {},
     "output_type": "execute_result"
    }
   ],
   "source": [
    "predict"
   ]
  },
  {
   "cell_type": "code",
   "execution_count": 118,
   "id": "c6c16e91",
   "metadata": {},
   "outputs": [
    {
     "name": "stdout",
     "output_type": "stream",
     "text": [
      "Mean Absolute Error: 184.30621525724067\n",
      "Mean Squared Error: 38088.472665615765\n",
      "Root Mean Squared Error: 195.16268256410027\n"
     ]
    }
   ],
   "source": [
    "import numpy as np\n",
    "\n",
    "def mean_absolute_error(y_true, y_pred):\n",
    "    return np.mean(np.abs(y_true - y_pred))\n",
    "\n",
    "def mean_squared_error(y_true, y_pred):\n",
    "    return np.mean((y_true - y_pred) ** 2)\n",
    "\n",
    "def root_mean_squared_error(y_true, y_pred):\n",
    "    return np.sqrt(mean_squared_error(y_true, y_pred))\n",
    "\n",
    "# Assuming `y` is the true values and `predict` is the predicted values\n",
    "mae = mean_absolute_error(y, predict)\n",
    "mse = mean_squared_error(y, predict)\n",
    "rmse = root_mean_squared_error(y, predict)\n",
    "\n",
    "print(f\"Mean Absolute Error: {mae}\")\n",
    "print(f\"Mean Squared Error: {mse}\")\n",
    "print(f\"Root Mean Squared Error: {rmse}\")\n"
   ]
  },
  {
   "cell_type": "code",
   "execution_count": 121,
   "id": "7224afa9",
   "metadata": {},
   "outputs": [
    {
     "data": {
      "image/png": "[encoded data removed]",
      "text/plain": [
       "<Figure size 640x480 with 1 Axes>"
      ]
     },
     "metadata": {},
     "output_type": "display_data"
    }
   ],
   "source": [
    "import matplotlib.pyplot as plt\n",
    "\n",
    "plt.plot(y, label='True Values')\n",
    "plt.plot(predict, label='Predictions')\n",
    "plt.legend()\n",
    "plt.show()\n"
   ]
  },
  {
   "cell_type": "markdown",
   "id": "31092b9e",
   "metadata": {},
   "source": [
    "Linear Regression"
   ]
  },
  {
   "cell_type": "code",
   "execution_count": 125,
   "id": "247888d2",
   "metadata": {},
   "outputs": [],
   "source": [
    "data= pd.read_csv(r\"C:\\Users\\RHEA TIWARI\\Downloads\\archive (2)\\Housing.csv\")"
   ]
  },
  {
   "cell_type": "code",
   "execution_count": 126,
   "id": "d442716e",
   "metadata": {},
   "outputs": [
    {
     "data": {
      "text/html": [
       "<div>\n",
       "<style scoped>\n",
       "    .dataframe tbody tr th:only-of-type {\n",
       "        vertical-align: middle;\n",
       "    }\n",
       "\n",
       "    .dataframe tbody tr th {\n",
       "        vertical-align: top;\n",
       "    }\n",
       "\n",
       "    .dataframe thead th {\n",
       "        text-align: right;\n",
       "    }\n",
       "</style>\n",
       "<table border=\"1\" class=\"dataframe\">\n",
       "  <thead>\n",
       "    <tr style=\"text-align: right;\">\n",
       "      <th></th>\n",
       "      <th>price</th>\n",
       "      <th>area</th>\n",
       "      <th>bedrooms</th>\n",
       "      <th>bathrooms</th>\n",
       "      <th>stories</th>\n",
       "      <th>mainroad</th>\n",
       "      <th>guestroom</th>\n",
       "      <th>basement</th>\n",
       "      <th>hotwaterheating</th>\n",
       "      <th>airconditioning</th>\n",
       "      <th>parking</th>\n",
       "      <th>prefarea</th>\n",
       "      <th>furnishingstatus</th>\n",
       "    </tr>\n",
       "  </thead>\n",
       "  <tbody>\n",
       "    <tr>\n",
       "      <th>0</th>\n",
       "      <td>13300000</td>\n",
       "      <td>7420</td>\n",
       "      <td>4</td>\n",
       "      <td>2</td>\n",
       "      <td>3</td>\n",
       "      <td>yes</td>\n",
       "      <td>no</td>\n",
       "      <td>no</td>\n",
       "      <td>no</td>\n",
       "      <td>yes</td>\n",
       "      <td>2</td>\n",
       "      <td>yes</td>\n",
       "      <td>furnished</td>\n",
       "    </tr>\n",
       "    <tr>\n",
       "      <th>1</th>\n",
       "      <td>12250000</td>\n",
       "      <td>8960</td>\n",
       "      <td>4</td>\n",
       "      <td>4</td>\n",
       "      <td>4</td>\n",
       "      <td>yes</td>\n",
       "      <td>no</td>\n",
       "      <td>no</td>\n",
       "      <td>no</td>\n",
       "      <td>yes</td>\n",
       "      <td>3</td>\n",
       "      <td>no</td>\n",
       "      <td>furnished</td>\n",
       "    </tr>\n",
       "    <tr>\n",
       "      <th>2</th>\n",
       "      <td>12250000</td>\n",
       "      <td>9960</td>\n",
       "      <td>3</td>\n",
       "      <td>2</td>\n",
       "      <td>2</td>\n",
       "      <td>yes</td>\n",
       "      <td>no</td>\n",
       "      <td>yes</td>\n",
       "      <td>no</td>\n",
       "      <td>no</td>\n",
       "      <td>2</td>\n",
       "      <td>yes</td>\n",
       "      <td>semi-furnished</td>\n",
       "    </tr>\n",
       "    <tr>\n",
       "      <th>3</th>\n",
       "      <td>12215000</td>\n",
       "      <td>7500</td>\n",
       "      <td>4</td>\n",
       "      <td>2</td>\n",
       "      <td>2</td>\n",
       "      <td>yes</td>\n",
       "      <td>no</td>\n",
       "      <td>yes</td>\n",
       "      <td>no</td>\n",
       "      <td>yes</td>\n",
       "      <td>3</td>\n",
       "      <td>yes</td>\n",
       "      <td>furnished</td>\n",
       "    </tr>\n",
       "    <tr>\n",
       "      <th>4</th>\n",
       "      <td>11410000</td>\n",
       "      <td>7420</td>\n",
       "      <td>4</td>\n",
       "      <td>1</td>\n",
       "      <td>2</td>\n",
       "      <td>yes</td>\n",
       "      <td>yes</td>\n",
       "      <td>yes</td>\n",
       "      <td>no</td>\n",
       "      <td>yes</td>\n",
       "      <td>2</td>\n",
       "      <td>no</td>\n",
       "      <td>furnished</td>\n",
       "    </tr>\n",
       "    <tr>\n",
       "      <th>...</th>\n",
       "      <td>...</td>\n",
       "      <td>...</td>\n",
       "      <td>...</td>\n",
       "      <td>...</td>\n",
       "      <td>...</td>\n",
       "      <td>...</td>\n",
       "      <td>...</td>\n",
       "      <td>...</td>\n",
       "      <td>...</td>\n",
       "      <td>...</td>\n",
       "      <td>...</td>\n",
       "      <td>...</td>\n",
       "      <td>...</td>\n",
       "    </tr>\n",
       "    <tr>\n",
       "      <th>540</th>\n",
       "      <td>1820000</td>\n",
       "      <td>3000</td>\n",
       "      <td>2</td>\n",
       "      <td>1</td>\n",
       "      <td>1</td>\n",
       "      <td>yes</td>\n",
       "      <td>no</td>\n",
       "      <td>yes</td>\n",
       "      <td>no</td>\n",
       "      <td>no</td>\n",
       "      <td>2</td>\n",
       "      <td>no</td>\n",
       "      <td>unfurnished</td>\n",
       "    </tr>\n",
       "    <tr>\n",
       "      <th>541</th>\n",
       "      <td>1767150</td>\n",
       "      <td>2400</td>\n",
       "      <td>3</td>\n",
       "      <td>1</td>\n",
       "      <td>1</td>\n",
       "      <td>no</td>\n",
       "      <td>no</td>\n",
       "      <td>no</td>\n",
       "      <td>no</td>\n",
       "      <td>no</td>\n",
       "      <td>0</td>\n",
       "      <td>no</td>\n",
       "      <td>semi-furnished</td>\n",
       "    </tr>\n",
       "    <tr>\n",
       "      <th>542</th>\n",
       "      <td>1750000</td>\n",
       "      <td>3620</td>\n",
       "      <td>2</td>\n",
       "      <td>1</td>\n",
       "      <td>1</td>\n",
       "      <td>yes</td>\n",
       "      <td>no</td>\n",
       "      <td>no</td>\n",
       "      <td>no</td>\n",
       "      <td>no</td>\n",
       "      <td>0</td>\n",
       "      <td>no</td>\n",
       "      <td>unfurnished</td>\n",
       "    </tr>\n",
       "    <tr>\n",
       "      <th>543</th>\n",
       "      <td>1750000</td>\n",
       "      <td>2910</td>\n",
       "      <td>3</td>\n",
       "      <td>1</td>\n",
       "      <td>1</td>\n",
       "      <td>no</td>\n",
       "      <td>no</td>\n",
       "      <td>no</td>\n",
       "      <td>no</td>\n",
       "      <td>no</td>\n",
       "      <td>0</td>\n",
       "      <td>no</td>\n",
       "      <td>furnished</td>\n",
       "    </tr>\n",
       "    <tr>\n",
       "      <th>544</th>\n",
       "      <td>1750000</td>\n",
       "      <td>3850</td>\n",
       "      <td>3</td>\n",
       "      <td>1</td>\n",
       "      <td>2</td>\n",
       "      <td>yes</td>\n",
       "      <td>no</td>\n",
       "      <td>no</td>\n",
       "      <td>no</td>\n",
       "      <td>no</td>\n",
       "      <td>0</td>\n",
       "      <td>no</td>\n",
       "      <td>unfurnished</td>\n",
       "    </tr>\n",
       "  </tbody>\n",
       "</table>\n",
       "<p>545 rows × 13 columns</p>\n",
       "</div>"
      ],
      "text/plain": [
       "        price  area  bedrooms  bathrooms  stories mainroad guestroom basement  \\\n",
       "0    13300000  7420         4          2        3      yes        no       no   \n",
       "1    12250000  8960         4          4        4      yes        no       no   \n",
       "2    12250000  9960         3          2        2      yes        no      yes   \n",
       "3    12215000  7500         4          2        2      yes        no      yes   \n",
       "4    11410000  7420         4          1        2      yes       yes      yes   \n",
       "..        ...   ...       ...        ...      ...      ...       ...      ...   \n",
       "540   1820000  3000         2          1        1      yes        no      yes   \n",
       "541   1767150  2400         3          1        1       no        no       no   \n",
       "542   1750000  3620         2          1        1      yes        no       no   \n",
       "543   1750000  2910         3          1        1       no        no       no   \n",
       "544   1750000  3850         3          1        2      yes        no       no   \n",
       "\n",
       "    hotwaterheating airconditioning  parking prefarea furnishingstatus  \n",
       "0                no             yes        2      yes        furnished  \n",
       "1                no             yes        3       no        furnished  \n",
       "2                no              no        2      yes   semi-furnished  \n",
       "3                no             yes        3      yes        furnished  \n",
       "4                no             yes        2       no        furnished  \n",
       "..              ...             ...      ...      ...              ...  \n",
       "540              no              no        2       no      unfurnished  \n",
       "541              no              no        0       no   semi-furnished  \n",
       "542              no              no        0       no      unfurnished  \n",
       "543              no              no        0       no        furnished  \n",
       "544              no              no        0       no      unfurnished  \n",
       "\n",
       "[545 rows x 13 columns]"
      ]
     },
     "execution_count": 126,
     "metadata": {},
     "output_type": "execute_result"
    }
   ],
   "source": [
    "data"
   ]
  },
  {
   "cell_type": "code",
   "execution_count": 131,
   "id": "7c8eaf61",
   "metadata": {},
   "outputs": [],
   "source": [
    "import numpy as np\n",
    "from sklearn.model_selection import train_test_split\n"
   ]
  },
  {
   "cell_type": "code",
   "execution_count": 132,
   "id": "76a1614c",
   "metadata": {},
   "outputs": [],
   "source": [
    "X_df=data.drop(columns=['price'])\n",
    "y_df=data['price']"
   ]
  },
  {
   "cell_type": "code",
   "execution_count": 133,
   "id": "651d6bee",
   "metadata": {},
   "outputs": [
    {
     "name": "stdout",
     "output_type": "stream",
     "text": [
      "Training features:\n",
      "      area  bedrooms  bathrooms  stories mainroad guestroom basement  \\\n",
      "46   6000         3          2        4      yes        no       no   \n",
      "93   7200         3          2        1      yes        no      yes   \n",
      "335  3816         2          1        1      yes        no      yes   \n",
      "412  2610         3          1        2      yes        no      yes   \n",
      "471  3750         3          1        2      yes        no       no   \n",
      "..    ...       ...        ...      ...      ...       ...      ...   \n",
      "71   6000         4          2        4      yes        no       no   \n",
      "106  5450         4          2        1      yes        no      yes   \n",
      "270  4500         3          2        3      yes        no       no   \n",
      "435  4040         2          1        1      yes        no       no   \n",
      "102  5500         3          2        4      yes       yes       no   \n",
      "\n",
      "    hotwaterheating airconditioning  parking prefarea furnishingstatus  \n",
      "46               no             yes        1       no        furnished  \n",
      "93               no             yes        3       no   semi-furnished  \n",
      "335              no             yes        2       no        furnished  \n",
      "412              no              no        0      yes      unfurnished  \n",
      "471              no              no        0       no      unfurnished  \n",
      "..              ...             ...      ...      ...              ...  \n",
      "71               no             yes        0       no      unfurnished  \n",
      "106              no             yes        0      yes   semi-furnished  \n",
      "270             yes              no        1       no        furnished  \n",
      "435              no              no        0       no      unfurnished  \n",
      "102              no             yes        1       no   semi-furnished  \n",
      "\n",
      "[436 rows x 12 columns]\n",
      "Training labels:\n",
      " 46     7525000\n",
      "93     6300000\n",
      "335    3920000\n",
      "412    3430000\n",
      "471    3010000\n",
      "        ...   \n",
      "71     6755000\n",
      "106    6160000\n",
      "270    4340000\n",
      "435    3290000\n",
      "102    6195000\n",
      "Name: price, Length: 436, dtype: int64\n",
      "Testing features:\n",
      "      area  bedrooms  bathrooms  stories mainroad guestroom basement  \\\n",
      "316  5900         4          2        2       no        no      yes   \n",
      "77   6500         3          2        3      yes        no       no   \n",
      "360  4040         2          1        1      yes        no       no   \n",
      "90   5000         3          1        2      yes        no       no   \n",
      "493  3960         3          1        1      yes        no       no   \n",
      "..    ...       ...        ...      ...      ...       ...      ...   \n",
      "15   6000         4          1        2      yes        no      yes   \n",
      "357  6930         4          1        2       no        no       no   \n",
      "39   6000         4          2        4      yes        no       no   \n",
      "54   6000         3          2        2      yes       yes       no   \n",
      "155  6100         3          2        1      yes        no      yes   \n",
      "\n",
      "    hotwaterheating airconditioning  parking prefarea furnishingstatus  \n",
      "316              no              no        1       no      unfurnished  \n",
      "77               no             yes        0      yes        furnished  \n",
      "360              no              no        0       no   semi-furnished  \n",
      "90               no             yes        0       no   semi-furnished  \n",
      "493              no              no        0       no        furnished  \n",
      "..              ...             ...      ...      ...              ...  \n",
      "15               no              no        2       no   semi-furnished  \n",
      "357              no              no        1       no        furnished  \n",
      "39               no             yes        1       no   semi-furnished  \n",
      "54               no             yes        1       no   semi-furnished  \n",
      "155              no              no        2      yes        furnished  \n",
      "\n",
      "[109 rows x 12 columns]\n",
      "Testing labels:\n",
      " 316    4060000\n",
      "77     6650000\n",
      "360    3710000\n",
      "90     6440000\n",
      "493    2800000\n",
      "        ...   \n",
      "15     9100000\n",
      "357    3773000\n",
      "39     7910000\n",
      "54     7350000\n",
      "155    5530000\n",
      "Name: price, Length: 109, dtype: int64\n"
     ]
    }
   ],
   "source": [
    "X_train, X_test, y_train, y_test = train_test_split(X_df, y_df, test_size=0.2, random_state=42)\n",
    "\n",
    "print(\"Training features:\\n\", X_train)\n",
    "print(\"Training labels:\\n\", y_train)\n",
    "print(\"Testing features:\\n\", X_test)\n",
    "print(\"Testing labels:\\n\", y_test)"
   ]
  },
  {
   "cell_type": "code",
   "execution_count": null,
   "id": "8ac521f8",
   "metadata": {},
   "outputs": [],
   "source": [
    "epsilon=epsilon = np.array([0.000001] * X_train.shape[1])\n",
    "\n",
    "old_cost=np.ones(n)*50000\n",
    "\n",
    "w_f=[]\n",
    "j_wb=[]\n",
    "it=[]\n",
    "iters=1000\n",
    "w_init=np.zeros(x.shape[1])\n",
    "b_init=0\n",
    "def gradient_descent_fin(x,y,w,b,iters,lr,epsilon,old_cost):\n",
    "    m,n=x.shape\n",
    "    i=0\n",
    "    dj_dw=np.zeros(n)\n",
    "    dj_db=np.zeros(n)\n",
    "    new_cost=compute_cost(x,y,w,b)\n",
    "    print(new_cost)\n",
    "    #old=(old_cost-new_f)\n",
    "    #old=float(old)\n",
    "    print(old_cost-new_cost)\n",
    "   \n",
    "    while(i<iters):\n",
    "        print(i)\n",
    "        dj_dw,dj_db=comp_descent(x,y,w,b)\n",
    "        temp_w=w-lr*dj_dw\n",
    "        temp_b=b-lr*dj_db\n",
    "        w=temp_w\n",
    "        w_f.append(w)\n",
    "        b=temp_b\n",
    "        f=compute_cost(x,y,w,b)\n",
    "        \n",
    "        j_wb.append(f)\n",
    "        \n",
    "        it.append(i)\n",
    "        \n",
    "        old_cost=new_cost\n",
    "        new_cost=f\n",
    "        print(new_cost)\n",
    "        \n",
    "        print(i)\n",
    "\n",
    "        print(old_cost-new_cost)\n",
    "        if (i%10 == 0):\n",
    "            print(f\"Iteration {i:3}: Cost  {compute_cost(x, y, w, b)}\\n\"\n",
    "                  f\"dj_dw: {dj_dw}\\n\"\n",
    "                  f\"dj_db: {dj_db}\\n\"\n",
    "                  f\"w: {w}\\n\"\n",
    "                  f\"b: {b}\")\n",
    "        i=i+1\n",
    "\n",
    "      \n",
    "    print(f\"final w{w} and final b is {b}\")\n",
    "    return w,b,j_wb,it\n",
    "    \n",
    "\n",
    "\n",
    "\n"
   ]
  },
  {
   "cell_type": "code",
   "execution_count": null,
   "id": "25652004",
   "metadata": {},
   "outputs": [],
   "source": []
  }
 ],
 "metadata": {
  "kernelspec": {
   "display_name": "Python 3 (ipykernel)",
   "language": "python",
   "name": "python3"
  },
  "language_info": {
   "codemirror_mode": {
    "name": "ipython",
    "version": 3
   },
   "file_extension": ".py",
   "mimetype": "text/x-python",
   "name": "python",
   "nbconvert_exporter": "python",
   "pygments_lexer": "ipython3",
   "version": "3.7.0"
  }
 },
 "nbformat": 4,
 "nbformat_minor": 5
}
